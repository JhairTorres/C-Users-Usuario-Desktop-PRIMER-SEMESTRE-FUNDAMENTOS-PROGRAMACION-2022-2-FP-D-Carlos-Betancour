{
  "nbformat": 4,
  "nbformat_minor": 0,
  "metadata": {
    "colab": {
      "provenance": [],
      "authorship_tag": "ABX9TyO7eNs+1u8jL76woo6SQVxQ",
      "include_colab_link": true
    },
    "kernelspec": {
      "name": "python3",
      "display_name": "Python 3"
    },
    "language_info": {
      "name": "python"
    }
  },
  "cells": [
    {
      "cell_type": "markdown",
      "metadata": {
        "id": "view-in-github",
        "colab_type": "text"
      },
      "source": [
        "<a href=\"https://colab.research.google.com/github/JhairTorres/C-Users-Usuario-Desktop-PRIMER-SEMESTRE-FUNDAMENTOS-PROGRAMACION-2022-2-FP-D-Carlos-Betancour/blob/main/Untitled2.ipynb\" target=\"_parent\"><img src=\"https://colab.research.google.com/assets/colab-badge.svg\" alt=\"Open In Colab\"/></a>"
      ]
    },
    {
      "cell_type": "code",
      "execution_count": 2,
      "metadata": {
        "colab": {
          "base_uri": "https://localhost:8080/",
          "height": 494
        },
        "id": "3AEY5X1KVP46",
        "outputId": "13f9fc9f-ad61-4eb0-9163-485720aca759"
      },
      "outputs": [
        {
          "output_type": "stream",
          "name": "stdout",
          "text": [
            "\n",
            "1. Agregar Ciudad\n",
            "2. Agregar Veterinario a Ciudad\n",
            "3. Registrar Vacunas para Veterinario en Ciudad\n",
            "4. Mostrar Ciudades\n",
            "5. Mostrar Total de Vacunas por Ciudad\n",
            "6. Mostrar Total de Vacunas por Veterinario en Ciudad\n",
            "7. Salir\n"
          ]
        },
        {
          "output_type": "error",
          "ename": "KeyboardInterrupt",
          "evalue": "ignored",
          "traceback": [
            "\u001b[0;31m---------------------------------------------------------------------------\u001b[0m",
            "\u001b[0;31mKeyboardInterrupt\u001b[0m                         Traceback (most recent call last)",
            "\u001b[0;32m<ipython-input-2-3c6f5dfd3d68>\u001b[0m in \u001b[0;36m<cell line: 101>\u001b[0;34m()\u001b[0m\n\u001b[1;32m    100\u001b[0m \u001b[0;34m\u001b[0m\u001b[0m\n\u001b[1;32m    101\u001b[0m \u001b[0;32mif\u001b[0m \u001b[0m__name__\u001b[0m \u001b[0;34m==\u001b[0m \u001b[0;34m\"__main__\"\u001b[0m\u001b[0;34m:\u001b[0m\u001b[0;34m\u001b[0m\u001b[0;34m\u001b[0m\u001b[0m\n\u001b[0;32m--> 102\u001b[0;31m     \u001b[0mmain\u001b[0m\u001b[0;34m(\u001b[0m\u001b[0;34m)\u001b[0m  \u001b[0;31m# Llama a la función principal del programa.\u001b[0m\u001b[0;34m\u001b[0m\u001b[0;34m\u001b[0m\u001b[0m\n\u001b[0m",
            "\u001b[0;32m<ipython-input-2-3c6f5dfd3d68>\u001b[0m in \u001b[0;36mmain\u001b[0;34m()\u001b[0m\n\u001b[1;32m     60\u001b[0m         \u001b[0mprint\u001b[0m\u001b[0;34m(\u001b[0m\u001b[0;34m\"7. Salir\"\u001b[0m\u001b[0;34m)\u001b[0m\u001b[0;34m\u001b[0m\u001b[0;34m\u001b[0m\u001b[0m\n\u001b[1;32m     61\u001b[0m \u001b[0;34m\u001b[0m\u001b[0m\n\u001b[0;32m---> 62\u001b[0;31m         \u001b[0mopcion\u001b[0m \u001b[0;34m=\u001b[0m \u001b[0minput\u001b[0m\u001b[0;34m(\u001b[0m\u001b[0;34m\"Seleccione una opción: \"\u001b[0m\u001b[0;34m)\u001b[0m\u001b[0;34m\u001b[0m\u001b[0;34m\u001b[0m\u001b[0m\n\u001b[0m\u001b[1;32m     63\u001b[0m \u001b[0;34m\u001b[0m\u001b[0m\n\u001b[1;32m     64\u001b[0m         \u001b[0;32mif\u001b[0m \u001b[0mopcion\u001b[0m \u001b[0;34m==\u001b[0m \u001b[0;34m\"1\"\u001b[0m\u001b[0;34m:\u001b[0m\u001b[0;34m\u001b[0m\u001b[0;34m\u001b[0m\u001b[0m\n",
            "\u001b[0;32m/usr/local/lib/python3.10/dist-packages/ipykernel/kernelbase.py\u001b[0m in \u001b[0;36mraw_input\u001b[0;34m(self, prompt)\u001b[0m\n\u001b[1;32m    849\u001b[0m                 \u001b[0;34m\"raw_input was called, but this frontend does not support input requests.\"\u001b[0m\u001b[0;34m\u001b[0m\u001b[0;34m\u001b[0m\u001b[0m\n\u001b[1;32m    850\u001b[0m             )\n\u001b[0;32m--> 851\u001b[0;31m         return self._input_request(str(prompt),\n\u001b[0m\u001b[1;32m    852\u001b[0m             \u001b[0mself\u001b[0m\u001b[0;34m.\u001b[0m\u001b[0m_parent_ident\u001b[0m\u001b[0;34m,\u001b[0m\u001b[0;34m\u001b[0m\u001b[0;34m\u001b[0m\u001b[0m\n\u001b[1;32m    853\u001b[0m             \u001b[0mself\u001b[0m\u001b[0;34m.\u001b[0m\u001b[0m_parent_header\u001b[0m\u001b[0;34m,\u001b[0m\u001b[0;34m\u001b[0m\u001b[0;34m\u001b[0m\u001b[0m\n",
            "\u001b[0;32m/usr/local/lib/python3.10/dist-packages/ipykernel/kernelbase.py\u001b[0m in \u001b[0;36m_input_request\u001b[0;34m(self, prompt, ident, parent, password)\u001b[0m\n\u001b[1;32m    893\u001b[0m             \u001b[0;32mexcept\u001b[0m \u001b[0mKeyboardInterrupt\u001b[0m\u001b[0;34m:\u001b[0m\u001b[0;34m\u001b[0m\u001b[0;34m\u001b[0m\u001b[0m\n\u001b[1;32m    894\u001b[0m                 \u001b[0;31m# re-raise KeyboardInterrupt, to truncate traceback\u001b[0m\u001b[0;34m\u001b[0m\u001b[0;34m\u001b[0m\u001b[0m\n\u001b[0;32m--> 895\u001b[0;31m                 \u001b[0;32mraise\u001b[0m \u001b[0mKeyboardInterrupt\u001b[0m\u001b[0;34m(\u001b[0m\u001b[0;34m\"Interrupted by user\"\u001b[0m\u001b[0;34m)\u001b[0m \u001b[0;32mfrom\u001b[0m \u001b[0;32mNone\u001b[0m\u001b[0;34m\u001b[0m\u001b[0;34m\u001b[0m\u001b[0m\n\u001b[0m\u001b[1;32m    896\u001b[0m             \u001b[0;32mexcept\u001b[0m \u001b[0mException\u001b[0m \u001b[0;32mas\u001b[0m \u001b[0me\u001b[0m\u001b[0;34m:\u001b[0m\u001b[0;34m\u001b[0m\u001b[0;34m\u001b[0m\u001b[0m\n\u001b[1;32m    897\u001b[0m                 \u001b[0mself\u001b[0m\u001b[0;34m.\u001b[0m\u001b[0mlog\u001b[0m\u001b[0;34m.\u001b[0m\u001b[0mwarning\u001b[0m\u001b[0;34m(\u001b[0m\u001b[0;34m\"Invalid Message:\"\u001b[0m\u001b[0;34m,\u001b[0m \u001b[0mexc_info\u001b[0m\u001b[0;34m=\u001b[0m\u001b[0;32mTrue\u001b[0m\u001b[0;34m)\u001b[0m\u001b[0;34m\u001b[0m\u001b[0;34m\u001b[0m\u001b[0m\n",
            "\u001b[0;31mKeyboardInterrupt\u001b[0m: Interrupted by user"
          ]
        }
      ],
      "source": [
        "class City:\n",
        "    def __init__(self, name, veterinarians):\n",
        "        self.name = name\n",
        "        self.veterinarians = veterinarians\n",
        "\n",
        "class Veterinarian:\n",
        "    def __init__(self, name):\n",
        "        self.name = name\n",
        "        self.applied_vaccines = 0\n",
        "\n",
        "def add_city(cities):\n",
        "    name = input(\"Ingrese el nombre de la ciudad: \")\n",
        "    veterinarians = []\n",
        "    cities.append(City(name, veterinarians))\n",
        "    print(f\"Ciudad '{name}' agregada.\")\n",
        "\n",
        "def add_veterinarian(city):\n",
        "    name = input(\"Ingrese el nombre del veterinario: \")\n",
        "    veterinarian = Veterinarian(name)\n",
        "    city.veterinarians.append(veterinarian)\n",
        "    print(f\"Veterinario '{name}' agregado a la ciudad '{city.name}'.\")\n",
        "\n",
        "def record_vaccines(city):\n",
        "    print(\"Veterinarios en\", city.name)\n",
        "    for idx, vet in enumerate(city.veterinarians, start=1):\n",
        "        print(f\"{idx}. {vet.name}\")\n",
        "\n",
        "    vet_idx = int(input(\"Seleccione el veterinario (número): \")) - 1\n",
        "    if 0 <= vet_idx < len(city.veterinarians):\n",
        "        cantidad = int(input(\"Ingrese la cantidad de vacunas aplicadas: \"))\n",
        "        city.veterinarians[vet_idx].applied_vaccines += cantidad\n",
        "        print(f\"Se registraron {cantidad} vacunas para el veterinario '{city.veterinarians[vet_idx].name}'.\")\n",
        "    else:\n",
        "        print(\"Selección de veterinario inválida.\")\n",
        "\n",
        "def mostrar_ciudades(cities):\n",
        "    print(\"Lista de ciudades:\")\n",
        "    for idx, city in enumerate(cities, start=1):\n",
        "        print(f\"{idx}. {city.name}\")\n",
        "\n",
        "def mostrar_total_vacunas_por_ciudad(city):\n",
        "    total_vacunas = sum(vet.applied_vaccines for vet in city.veterinarians)\n",
        "    print(f\"Total de vacunas aplicadas en {city.name}: {total_vacunas}\")\n",
        "\n",
        "def mostrar_total_vacunas_por_veterinario(city):\n",
        "    print(\"Veterinarios en\", city.name)\n",
        "    for idx, vet in enumerate(city.veterinarians, start=1):\n",
        "        print(f\"{idx}. {vet.name} - Total de vacunas: {vet.applied_vaccines}\")\n",
        "\n",
        "def main():\n",
        "    cities = []\n",
        "\n",
        "    while True:\n",
        "        print(\"\\n1. Agregar Ciudad\")\n",
        "        print(\"2. Agregar Veterinario a Ciudad\")\n",
        "        print(\"3. Registrar Vacunas para Veterinario en Ciudad\")\n",
        "        print(\"4. Mostrar Ciudades\")\n",
        "        print(\"5. Mostrar Total de Vacunas por Ciudad\")\n",
        "        print(\"6. Mostrar Total de Vacunas por Veterinario en Ciudad\")\n",
        "        print(\"7. Salir\")\n",
        "\n",
        "        opcion = input(\"Seleccione una opción: \")\n",
        "\n",
        "        if opcion == \"1\":\n",
        "            add_city(cities)  # Llama a la función para agregar una ciudad a la lista.\n",
        "        elif opcion == \"2\":\n",
        "            mostrar_ciudades(cities)  # Muestra la lista de ciudades existentes.\n",
        "            if 0 <= ciudad_idx < len(cities):\n",
        "                add_veterinarian(cities[ciudad_idx])  # Llama a la función para agregar un veterinario a la ciudad seleccionada.\n",
        "            else:\n",
        "                print(\"Selección de ciudad inválida.\")\n",
        "        elif opcion == \"3\":\n",
        "            mostrar_ciudades(cities)\n",
        "            ciudad_idx = int(input(\"Seleccione la ciudad (número): \")) - 1\n",
        "            if 0 <= ciudad_idx < len(cities):\n",
        "                record_vaccines(cities[ciudad_idx])  # Llama a la función para registrar vacunas para un veterinario en una ciudad.\n",
        "            else:\n",
        "                print(\"Selección de ciudad inválida.\")\n",
        "        elif opcion == \"4\":\n",
        "            mostrar_ciudades(cities)  # Muestra la lista de ciudades existentes.\n",
        "        elif opcion == \"5\":\n",
        "            mostrar_ciudades(cities)\n",
        "            ciudad_idx = int(input(\"Seleccione la ciudad (número): \")) - 1\n",
        "            if 0 <= ciudad_idx < len(cities):\n",
        "                mostrar_total_vacunas_por_ciudad(cities[ciudad_idx])  # Muestra el total de vacunas aplicadas en una ciudad.\n",
        "            else:\n",
        "                print(\"Selección de ciudad inválida.\")\n",
        "        elif opcion == \"6\":\n",
        "            mostrar_ciudades(cities)\n",
        "            ciudad_idx = int(input(\"Seleccione la ciudad (número): \")) - 1\n",
        "            if 0 <= ciudad_idx < len(cities):\n",
        "                mostrar_total_vacunas_por_veterinario(cities[ciudad_idx])  # Muestra el total de vacunas aplicadas por veterinario en una ciudad.\n",
        "            else:\n",
        "                print(\"Selección de ciudad inválida.\")\n",
        "        elif opcion == \"7\":\n",
        "            break  # Sale del bucle while, terminando el programa.\n",
        "        else:\n",
        "            print(\"Opción inválida. Intente nuevamente.\")\n",
        "\n",
        "if __name__ == \"__main__\":\n",
        "    main()  # Llama a la función principal del programa.\n"
      ]
    }
  ]
}